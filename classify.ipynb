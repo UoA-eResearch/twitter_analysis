{
 "cells": [
  {
   "cell_type": "code",
   "execution_count": 5,
   "metadata": {},
   "outputs": [],
   "source": [
    "import numpy as np # linear algebra\n",
    "import pandas as pd # data processing, CSV file I/O (e.g. pd.read_csv)\n",
    "import glob\n",
    "from tqdm.auto import tqdm\n",
    "tqdm.pandas()\n",
    "from bs4 import BeautifulSoup\n",
    "from vaderSentiment.vaderSentiment import SentimentIntensityAnalyzer\n",
    "import os\n",
    "\n",
    "os.makedirs(\"classified\", exist_ok=True)\n",
    "analyzer = SentimentIntensityAnalyzer()\n",
    "files = sorted(glob.glob(\"data/nz_tweets*.csv\"))\n",
    "#print(files)\n",
    "pd.set_option('display.max_colwidth', -1)"
   ]
  },
  {
   "cell_type": "code",
   "execution_count": null,
   "metadata": {},
   "outputs": [
    {
     "data": {
      "application/vnd.jupyter.widget-view+json": {
       "model_id": "f9fd9964ac654ecc88262ac201ace7d9",
       "version_major": 2,
       "version_minor": 0
      },
      "text/plain": [
       "HBox(children=(IntProgress(value=0, max=10), HTML(value='')))"
      ]
     },
     "metadata": {},
     "output_type": "display_data"
    },
    {
     "data": {
      "application/vnd.jupyter.widget-view+json": {
       "model_id": "92662608512b46e19ba1e1b262c0efd3",
       "version_major": 2,
       "version_minor": 0
      },
      "text/plain": [
       "HBox(children=(IntProgress(value=0, max=39582), HTML(value='')))"
      ]
     },
     "metadata": {},
     "output_type": "display_data"
    },
    {
     "data": {
      "application/vnd.jupyter.widget-view+json": {
       "model_id": "a90fa149865b4d82a1204adb555c7cc6",
       "version_major": 2,
       "version_minor": 0
      },
      "text/plain": [
       "HBox(children=(IntProgress(value=0, max=483368), HTML(value='')))"
      ]
     },
     "metadata": {},
     "output_type": "display_data"
    }
   ],
   "source": [
    "%%time\n",
    "def classify(row):\n",
    "    soup = BeautifulSoup(row.html, \"lxml\")\n",
    "    s = []\n",
    "    for child in soup.find(\"p\").children:\n",
    "        if child.name == None:\n",
    "            s.append(child)\n",
    "        elif child.name == \"img\":\n",
    "            s.append(child[\"alt\"])\n",
    "        else:\n",
    "            s.append(child.text)\n",
    "    text_with_emoji = \" \".join(s)\n",
    "    row[\"text_with_emoji\"] = text_with_emoji\n",
    "    vs = analyzer.polarity_scores(text_with_emoji)\n",
    "    for k,v in vs.items():\n",
    "        row[k] = v\n",
    "    return row\n",
    "\n",
    "for f in tqdm(files):\n",
    "    df = pd.read_csv(f, sep=\";\")\n",
    "    df = df.progress_apply(classify, axis=1)\n",
    "    new_filename = \"classified/\" + os.path.splitext(os.path.basename(f))[0] + \".csv\"\n",
    "    df.to_csv(new_filename, sep=\";\", index=False)"
   ]
  }
 ],
 "metadata": {
  "kernelspec": {
   "display_name": "Python 3",
   "language": "python",
   "name": "python3"
  },
  "language_info": {
   "codemirror_mode": {
    "name": "ipython",
    "version": 3
   },
   "file_extension": ".py",
   "mimetype": "text/x-python",
   "name": "python",
   "nbconvert_exporter": "python",
   "pygments_lexer": "ipython3",
   "version": "3.6.7"
  }
 },
 "nbformat": 4,
 "nbformat_minor": 2
}
