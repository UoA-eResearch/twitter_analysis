{
 "cells": [
  {
   "cell_type": "code",
   "execution_count": 9,
   "metadata": {},
   "outputs": [
    {
     "data": {
      "text/plain": [
       "{'neg': 0.0, 'neu': 0.385, 'pos': 0.615, 'compound': 0.1531}"
      ]
     },
     "execution_count": 9,
     "metadata": {},
     "output_type": "execute_result"
    }
   ],
   "source": [
    "from vaderSentiment.vaderSentiment import SentimentIntensityAnalyzer\n",
    "analyzer = SentimentIntensityAnalyzer()\n",
    "analyzer.polarity_scores(\"global warming\")"
   ]
  },
  {
   "cell_type": "code",
   "execution_count": 1,
   "metadata": {},
   "outputs": [
    {
     "name": "stderr",
     "output_type": "stream",
     "text": [
      "/home/ubuntu/.virtualenvs/twitter-analysis/lib/python3.7/site-packages/tqdm/_tqdm.py:634: FutureWarning: The Panel class is removed from pandas. Accessing it from the top-level namespace will also be removed in the next version\n",
      "  from pandas import Panel\n"
     ]
    },
    {
     "name": "stdout",
     "output_type": "stream",
     "text": [
      "WARNING: Progress bar is an experimental feature. This can lead to a considerable performance loss.\n",
      "New pandarallel memory created - Size: 4000 MB\n",
      "Pandarallel will run on 12 workers\n"
     ]
    }
   ],
   "source": [
    "import numpy as np # linear algebra\n",
    "import pandas as pd # data processing, CSV file I/O (e.g. pd.read_csv)\n",
    "import glob\n",
    "from pandarallel import pandarallel\n",
    "from tqdm.auto import tqdm\n",
    "tqdm.pandas()\n",
    "from bs4 import BeautifulSoup\n",
    "from vaderSentiment.vaderSentiment import SentimentIntensityAnalyzer\n",
    "import os\n",
    "pandarallel.initialize(progress_bar=True, nb_workers=12, shm_size_mb=4000)\n",
    "\n",
    "os.makedirs(\"classified\", exist_ok=True)\n",
    "analyzer = SentimentIntensityAnalyzer()\n",
    "files = glob.glob(\"data/climate_tweets*.csv\")\n",
    "#print(files)\n",
    "pd.set_option('display.max_colwidth', -1)\n",
    "\n",
    "def classify(row):\n",
    "    soup = BeautifulSoup(row.html, \"lxml\")\n",
    "    s = []\n",
    "    for child in soup.find(\"p\").children:\n",
    "        if child.name == None:\n",
    "            s.append(child)\n",
    "        elif child.name == \"img\":\n",
    "            s.append(child[\"alt\"])\n",
    "        else:\n",
    "            s.append(child.text)\n",
    "    text_with_emoji = \" \".join(s)\n",
    "    row[\"text_with_emoji\"] = text_with_emoji\n",
    "    vs = analyzer.polarity_scores(text_with_emoji)\n",
    "    for k,v in vs.items():\n",
    "        row[k] = v\n",
    "    return row\n",
    "\n",
    "for f in tqdm(files):\n",
    "    df = pd.read_csv(f, sep=\";\")\n",
    "    df = df.parallel_apply(classify, axis=1)\n",
    "    print(\"Complete - writing csv\")\n",
    "    new_filename = \"classified/\" + os.path.splitext(os.path.basename(f))[0] + \".csv\"\n",
    "    df.to_csv(new_filename, sep=\";\", index=False)"
   ]
  },
  {
   "cell_type": "code",
   "execution_count": null,
   "metadata": {
    "scrolled": true
   },
   "outputs": [],
   "source": [
    "%%time\n",
    "# Classify NZ tweets\n",
    "files = sorted(glob.glob(\"data/nz_tweets_*.csv\"))\n",
    "classify_tweets(files)"
   ]
  },
  {
   "cell_type": "code",
   "execution_count": null,
   "metadata": {},
   "outputs": [
    {
     "data": {
      "application/vnd.jupyter.widget-view+json": {
       "model_id": "56c65e664ed34dce9393a9ce8ea8479a",
       "version_major": 2,
       "version_minor": 0
      },
      "text/plain": [
       "HBox(children=(IntProgress(value=0, max=1), HTML(value='')))"
      ]
     },
     "metadata": {},
     "output_type": "display_data"
    },
    {
     "data": {
      "application/vnd.jupyter.widget-view+json": {
       "model_id": "2773bb65a805452b847988830f8bb179",
       "version_major": 2,
       "version_minor": 0
      },
      "text/plain": [
       "VBox(children=(HBox(children=(IntProgress(value=0, description='0.00%', max=81397), Label(value='0 / 81397')))…"
      ]
     },
     "metadata": {},
     "output_type": "display_data"
    }
   ],
   "source": [
    "%%time\n",
    "# Classify climate change tweets\n",
    "classify_tweets(sorted(glob.glob(\"/mnt/tweets/climate_tweets/histdaily-20190913T114130/combined.csv\")))"
   ]
  },
  {
   "cell_type": "code",
   "execution_count": null,
   "metadata": {},
   "outputs": [],
   "source": []
  },
  {
   "cell_type": "code",
   "execution_count": null,
   "metadata": {},
   "outputs": [],
   "source": []
  },
  {
   "cell_type": "code",
   "execution_count": null,
   "metadata": {},
   "outputs": [],
   "source": []
  }
 ],
 "metadata": {
  "kernelspec": {
   "display_name": "Python 3",
   "language": "python",
   "name": "python3"
  },
  "language_info": {
   "codemirror_mode": {
    "name": "ipython",
    "version": 3
   },
   "file_extension": ".py",
   "mimetype": "text/x-python",
   "name": "python",
   "nbconvert_exporter": "python",
   "pygments_lexer": "ipython3",
   "version": "3.8.5"
  }
 },
 "nbformat": 4,
 "nbformat_minor": 2
}
