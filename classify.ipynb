{
 "cells": [
  {
   "cell_type": "code",
   "execution_count": 1,
   "metadata": {},
   "outputs": [
    {
     "data": {
      "text/plain": [
       "{'neg': 0.0, 'neu': 0.385, 'pos': 0.615, 'compound': 0.1531}"
      ]
     },
     "execution_count": 1,
     "metadata": {},
     "output_type": "execute_result"
    }
   ],
   "source": [
    "from vaderSentiment.vaderSentiment import SentimentIntensityAnalyzer\n",
    "analyzer = SentimentIntensityAnalyzer()\n",
    "analyzer.polarity_scores(\"global warming\")"
   ]
  },
  {
   "cell_type": "code",
   "execution_count": 2,
   "metadata": {},
   "outputs": [
    {
     "name": "stdout",
     "output_type": "stream",
     "text": [
      "1933 data/from_research_API/2013-01-30.jsonl data/from_research_API/2021-06-21.jsonl\n"
     ]
    }
   ],
   "source": [
    "import numpy as np # linear algebra\n",
    "import pandas as pd # data processing, CSV file I/O (e.g. pd.read_csv)\n",
    "import glob\n",
    "from tqdm.auto import tqdm\n",
    "tqdm.pandas()\n",
    "from pprint import pprint\n",
    "import json\n",
    "\n",
    "files = sorted(glob.glob(\"data/from_research_API/*.jsonl\"))\n",
    "print(len(files), files[0], files[-1])"
   ]
  },
  {
   "cell_type": "code",
   "execution_count": 3,
   "metadata": {
    "scrolled": false
   },
   "outputs": [],
   "source": [
    "with open(\"data/from_research_API/2013-01-30.jsonl\") as f:\n",
    "    obj = json.loads(f.readline())"
   ]
  },
  {
   "cell_type": "code",
   "execution_count": 4,
   "metadata": {},
   "outputs": [
    {
     "data": {
      "text/plain": [
       "dict_keys(['data', 'includes', 'errors', 'meta', '__twarc'])"
      ]
     },
     "execution_count": 4,
     "metadata": {},
     "output_type": "execute_result"
    }
   ],
   "source": [
    "obj.keys()"
   ]
  },
  {
   "cell_type": "code",
   "execution_count": 5,
   "metadata": {
    "scrolled": false
   },
   "outputs": [
    {
     "name": "stdout",
     "output_type": "stream",
     "text": [
      "{'author_id': '51828412',\n",
      " 'conversation_id': '296769715127336961',\n",
      " 'created_at': '2013-01-30T23:59:48.000Z',\n",
      " 'entities': {'annotations': [{'end': 42,\n",
      "                               'normalized_text': 'MN',\n",
      "                               'probability': 0.908,\n",
      "                               'start': 41,\n",
      "                               'type': 'Place'}],\n",
      "              'hashtags': [{'end': 140, 'start': 126, 'tag': 'climatechange'}],\n",
      "              'mentions': [{'end': 18,\n",
      "                            'id': '22819917',\n",
      "                            'start': 3,\n",
      "                            'username': 'wildlifeaction'},\n",
      "                           {'end': 125,\n",
      "                            'id': '3554721',\n",
      "                            'start': 121,\n",
      "                            'username': 'NWF'}],\n",
      "              'urls': [{'display_url': 'bit.ly/14vlp6k',\n",
      "                        'end': 116,\n",
      "                        'expanded_url': 'http://bit.ly/14vlp6k',\n",
      "                        'start': 96,\n",
      "                        'url': 'http://t.co/tpWX4sCV'}]},\n",
      " 'id': '296769715127336961',\n",
      " 'lang': 'en',\n",
      " 'possibly_sensitive': False,\n",
      " 'public_metrics': {'like_count': 0,\n",
      "                    'quote_count': 0,\n",
      "                    'reply_count': 0,\n",
      "                    'retweet_count': 10},\n",
      " 'referenced_tweets': [{'id': '296733372892475392', 'type': 'retweeted'}],\n",
      " 'reply_settings': 'everyone',\n",
      " 'source': 'Twitter for iPhone',\n",
      " 'text': 'RT @wildlifeaction: Moose populations in MN have dropped from 4,000 '\n",
      "         'to 100 since the mid 1980s: http://t.co/tpWX4sCV via @NWF '\n",
      "         '#climatechange'}\n"
     ]
    }
   ],
   "source": [
    "pprint(obj[\"data\"][0])"
   ]
  },
  {
   "cell_type": "code",
   "execution_count": 6,
   "metadata": {},
   "outputs": [
    {
     "data": {
      "application/vnd.jupyter.widget-view+json": {
       "model_id": "a6ab1cf7ae7d4551aa2ac179e37be167",
       "version_major": 2,
       "version_minor": 0
      },
      "text/plain": [
       "  0%|          | 0/1933 [00:00<?, ?it/s]"
      ]
     },
     "metadata": {},
     "output_type": "display_data"
    },
    {
     "name": "stdout",
     "output_type": "stream",
     "text": [
      "79884202\n"
     ]
    }
   ],
   "source": [
    "results = []\n",
    "for filename in tqdm(files):\n",
    "    with open(filename) as file:\n",
    "        for line in file:\n",
    "            obj = json.loads(line)\n",
    "            for tweet in obj[\"data\"]:\n",
    "                result = analyzer.polarity_scores(tweet[\"text\"])\n",
    "                result[\"id\"] = tweet[\"id\"]\n",
    "                result[\"created_at\"] = tweet[\"created_at\"]\n",
    "                results.append(result)\n",
    "print(len(results))"
   ]
  },
  {
   "cell_type": "code",
   "execution_count": 9,
   "metadata": {},
   "outputs": [
    {
     "data": {
      "text/html": [
       "<div>\n",
       "<style scoped>\n",
       "    .dataframe tbody tr th:only-of-type {\n",
       "        vertical-align: middle;\n",
       "    }\n",
       "\n",
       "    .dataframe tbody tr th {\n",
       "        vertical-align: top;\n",
       "    }\n",
       "\n",
       "    .dataframe thead th {\n",
       "        text-align: right;\n",
       "    }\n",
       "</style>\n",
       "<table border=\"1\" class=\"dataframe\">\n",
       "  <thead>\n",
       "    <tr style=\"text-align: right;\">\n",
       "      <th></th>\n",
       "      <th>neg</th>\n",
       "      <th>neu</th>\n",
       "      <th>pos</th>\n",
       "      <th>compound</th>\n",
       "      <th>id</th>\n",
       "      <th>created_at</th>\n",
       "    </tr>\n",
       "  </thead>\n",
       "  <tbody>\n",
       "    <tr>\n",
       "      <th>0</th>\n",
       "      <td>0.000</td>\n",
       "      <td>1.000</td>\n",
       "      <td>0.000</td>\n",
       "      <td>0.0000</td>\n",
       "      <td>296769715127336961</td>\n",
       "      <td>2013-01-30T23:59:48.000Z</td>\n",
       "    </tr>\n",
       "    <tr>\n",
       "      <th>1</th>\n",
       "      <td>0.000</td>\n",
       "      <td>0.738</td>\n",
       "      <td>0.262</td>\n",
       "      <td>0.5994</td>\n",
       "      <td>296769710094168065</td>\n",
       "      <td>2013-01-30T23:59:47.000Z</td>\n",
       "    </tr>\n",
       "    <tr>\n",
       "      <th>2</th>\n",
       "      <td>0.230</td>\n",
       "      <td>0.628</td>\n",
       "      <td>0.141</td>\n",
       "      <td>-0.4019</td>\n",
       "      <td>296769692549410819</td>\n",
       "      <td>2013-01-30T23:59:43.000Z</td>\n",
       "    </tr>\n",
       "    <tr>\n",
       "      <th>3</th>\n",
       "      <td>0.209</td>\n",
       "      <td>0.664</td>\n",
       "      <td>0.128</td>\n",
       "      <td>-0.4019</td>\n",
       "      <td>296769668813828097</td>\n",
       "      <td>2013-01-30T23:59:37.000Z</td>\n",
       "    </tr>\n",
       "    <tr>\n",
       "      <th>4</th>\n",
       "      <td>0.000</td>\n",
       "      <td>1.000</td>\n",
       "      <td>0.000</td>\n",
       "      <td>0.0000</td>\n",
       "      <td>296769618310205440</td>\n",
       "      <td>2013-01-30T23:59:25.000Z</td>\n",
       "    </tr>\n",
       "    <tr>\n",
       "      <th>...</th>\n",
       "      <td>...</td>\n",
       "      <td>...</td>\n",
       "      <td>...</td>\n",
       "      <td>...</td>\n",
       "      <td>...</td>\n",
       "      <td>...</td>\n",
       "    </tr>\n",
       "    <tr>\n",
       "      <th>79884197</th>\n",
       "      <td>0.138</td>\n",
       "      <td>0.862</td>\n",
       "      <td>0.000</td>\n",
       "      <td>-0.6800</td>\n",
       "      <td>1406763810761940992</td>\n",
       "      <td>2021-06-21T00:00:03.000Z</td>\n",
       "    </tr>\n",
       "    <tr>\n",
       "      <th>79884198</th>\n",
       "      <td>0.000</td>\n",
       "      <td>0.925</td>\n",
       "      <td>0.075</td>\n",
       "      <td>0.2732</td>\n",
       "      <td>1406763802369085440</td>\n",
       "      <td>2021-06-21T00:00:01.000Z</td>\n",
       "    </tr>\n",
       "    <tr>\n",
       "      <th>79884199</th>\n",
       "      <td>0.000</td>\n",
       "      <td>0.949</td>\n",
       "      <td>0.051</td>\n",
       "      <td>0.2732</td>\n",
       "      <td>1406763801865826306</td>\n",
       "      <td>2021-06-21T00:00:01.000Z</td>\n",
       "    </tr>\n",
       "    <tr>\n",
       "      <th>79884200</th>\n",
       "      <td>0.000</td>\n",
       "      <td>0.882</td>\n",
       "      <td>0.118</td>\n",
       "      <td>0.3400</td>\n",
       "      <td>1406763797440782336</td>\n",
       "      <td>2021-06-21T00:00:00.000Z</td>\n",
       "    </tr>\n",
       "    <tr>\n",
       "      <th>79884201</th>\n",
       "      <td>0.163</td>\n",
       "      <td>0.837</td>\n",
       "      <td>0.000</td>\n",
       "      <td>-0.6486</td>\n",
       "      <td>1406763796664881152</td>\n",
       "      <td>2021-06-21T00:00:00.000Z</td>\n",
       "    </tr>\n",
       "  </tbody>\n",
       "</table>\n",
       "<p>79884202 rows × 6 columns</p>\n",
       "</div>"
      ],
      "text/plain": [
       "            neg    neu    pos  compound                   id  \\\n",
       "0         0.000  1.000  0.000    0.0000   296769715127336961   \n",
       "1         0.000  0.738  0.262    0.5994   296769710094168065   \n",
       "2         0.230  0.628  0.141   -0.4019   296769692549410819   \n",
       "3         0.209  0.664  0.128   -0.4019   296769668813828097   \n",
       "4         0.000  1.000  0.000    0.0000   296769618310205440   \n",
       "...         ...    ...    ...       ...                  ...   \n",
       "79884197  0.138  0.862  0.000   -0.6800  1406763810761940992   \n",
       "79884198  0.000  0.925  0.075    0.2732  1406763802369085440   \n",
       "79884199  0.000  0.949  0.051    0.2732  1406763801865826306   \n",
       "79884200  0.000  0.882  0.118    0.3400  1406763797440782336   \n",
       "79884201  0.163  0.837  0.000   -0.6486  1406763796664881152   \n",
       "\n",
       "                        created_at  \n",
       "0         2013-01-30T23:59:48.000Z  \n",
       "1         2013-01-30T23:59:47.000Z  \n",
       "2         2013-01-30T23:59:43.000Z  \n",
       "3         2013-01-30T23:59:37.000Z  \n",
       "4         2013-01-30T23:59:25.000Z  \n",
       "...                            ...  \n",
       "79884197  2021-06-21T00:00:03.000Z  \n",
       "79884198  2021-06-21T00:00:01.000Z  \n",
       "79884199  2021-06-21T00:00:01.000Z  \n",
       "79884200  2021-06-21T00:00:00.000Z  \n",
       "79884201  2021-06-21T00:00:00.000Z  \n",
       "\n",
       "[79884202 rows x 6 columns]"
      ]
     },
     "execution_count": 9,
     "metadata": {},
     "output_type": "execute_result"
    }
   ],
   "source": [
    "df = pd.DataFrame(results)\n",
    "df"
   ]
  },
  {
   "cell_type": "code",
   "execution_count": 11,
   "metadata": {},
   "outputs": [],
   "source": [
    "df.to_csv(\"tweets_from_research_API_sentiment2.csv\", index=False)"
   ]
  },
  {
   "cell_type": "code",
   "execution_count": null,
   "metadata": {},
   "outputs": [],
   "source": []
  }
 ],
 "metadata": {
  "kernelspec": {
   "display_name": "Python 3",
   "language": "python",
   "name": "python3"
  },
  "language_info": {
   "codemirror_mode": {
    "name": "ipython",
    "version": 3
   },
   "file_extension": ".py",
   "mimetype": "text/x-python",
   "name": "python",
   "nbconvert_exporter": "python",
   "pygments_lexer": "ipython3",
   "version": "3.8.5"
  }
 },
 "nbformat": 4,
 "nbformat_minor": 2
}
