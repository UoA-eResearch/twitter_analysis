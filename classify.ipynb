{
 "cells": [
  {
   "cell_type": "code",
   "execution_count": 1,
   "metadata": {},
   "outputs": [
    {
     "name": "stderr",
     "output_type": "stream",
     "text": [
      "/usr/lib/python3.5/importlib/_bootstrap.py:222: RuntimeWarning: numpy.dtype size changed, may indicate binary incompatibility. Expected 96, got 88\n",
      "  return f(*args, **kwds)\n",
      "/usr/lib/python3.5/importlib/_bootstrap.py:222: RuntimeWarning: numpy.dtype size changed, may indicate binary incompatibility. Expected 96, got 88\n",
      "  return f(*args, **kwds)\n"
     ]
    },
    {
     "name": "stdout",
     "output_type": "stream",
     "text": [
      "WARNING: Progress bar is an experimental feature. This can lead to a considerable performance loss.\n",
      "New pandarallel memory created - Size: 20000 MB\n",
      "Pandarallel will run on 40 workers\n"
     ]
    }
   ],
   "source": [
    "import numpy as np # linear algebra\n",
    "import pandas as pd # data processing, CSV file I/O (e.g. pd.read_csv)\n",
    "import glob\n",
    "from pandarallel import pandarallel\n",
    "from tqdm.auto import tqdm\n",
    "tqdm.pandas()\n",
    "from bs4 import BeautifulSoup\n",
    "from vaderSentiment.vaderSentiment import SentimentIntensityAnalyzer\n",
    "import os\n",
    "pandarallel.initialize(progress_bar=True, shm_size_mb=20000)\n",
    "\n",
    "os.makedirs(\"classified\", exist_ok=True)\n",
    "analyzer = SentimentIntensityAnalyzer()\n",
    "files = sorted(glob.glob(\"data/nz_tweets_*.csv\"))\n",
    "#print(files)\n",
    "pd.set_option('display.max_colwidth', -1)"
   ]
  },
  {
   "cell_type": "code",
   "execution_count": 2,
   "metadata": {},
   "outputs": [
    {
     "data": {
      "application/vnd.jupyter.widget-view+json": {
       "model_id": "eed769d492c04b93b31f04c63dd48667",
       "version_major": 2,
       "version_minor": 0
      },
      "text/plain": [
       "HBox(children=(IntProgress(value=0, max=1), HTML(value='')))"
      ]
     },
     "metadata": {},
     "output_type": "display_data"
    },
    {
     "data": {
      "application/vnd.jupyter.widget-view+json": {
       "model_id": "a243a1168ca843e4aaf20911d3b0d9ad",
       "version_major": 2,
       "version_minor": 0
      },
      "text/plain": [
       "VBox(children=(HBox(children=(IntProgress(value=0, description='0.00%', max=33103), Label(value='0 / 33103')))…"
      ]
     },
     "metadata": {},
     "output_type": "display_data"
    },
    {
     "name": "stdout",
     "output_type": "stream",
     "text": [
      "Complete - writing csv\n",
      "\n",
      "CPU times: user 2min 56s, sys: 28.1 s, total: 3min 24s\n",
      "Wall time: 6min 44s\n"
     ]
    }
   ],
   "source": [
    "%%time\n",
    "def classify(row):\n",
    "    soup = BeautifulSoup(row.html, \"lxml\")\n",
    "    s = []\n",
    "    for child in soup.find(\"p\").children:\n",
    "        if child.name == None:\n",
    "            s.append(child)\n",
    "        elif child.name == \"img\":\n",
    "            s.append(child[\"alt\"])\n",
    "        else:\n",
    "            s.append(child.text)\n",
    "    text_with_emoji = \" \".join(s)\n",
    "    row[\"text_with_emoji\"] = text_with_emoji\n",
    "    vs = analyzer.polarity_scores(text_with_emoji)\n",
    "    for k,v in vs.items():\n",
    "        row[k] = v\n",
    "    return row\n",
    "\n",
    "for f in tqdm(files):\n",
    "    df = pd.read_csv(f, sep=\";\")\n",
    "    df = df.parallel_apply(classify, axis=1)\n",
    "    print(\"Complete - writing csv\")\n",
    "    new_filename = \"classified/\" + os.path.splitext(os.path.basename(f))[0] + \".csv\"\n",
    "    df.to_csv(new_filename, sep=\";\", index=False)"
   ]
  }
 ],
 "metadata": {
  "kernelspec": {
   "display_name": "Python 3",
   "language": "python",
   "name": "python3"
  },
  "language_info": {
   "codemirror_mode": {
    "name": "ipython",
    "version": 3
   },
   "file_extension": ".py",
   "mimetype": "text/x-python",
   "name": "python",
   "nbconvert_exporter": "python",
   "pygments_lexer": "ipython3",
   "version": "3.5.2"
  }
 },
 "nbformat": 4,
 "nbformat_minor": 2
}
