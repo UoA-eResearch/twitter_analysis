{
 "cells": [
  {
   "cell_type": "code",
   "execution_count": 1,
   "metadata": {},
   "outputs": [],
   "source": [
    "import numpy as np # linear algebra\n",
    "import pandas as pd # data processing, CSV file I/O (e.g. pd.read_csv)\n",
    "import os\n",
    "import glob\n",
    "from tqdm import tqdm_notebook as tqdm\n",
    "files = sorted(glob.glob(\"data/nz_tweets*.csv\"))"
   ]
  },
  {
   "cell_type": "code",
   "execution_count": 2,
   "metadata": {},
   "outputs": [],
   "source": [
    "df = pd.concat(pd.read_csv(f, sep=';') for f in files)"
   ]
  },
  {
   "cell_type": "code",
   "execution_count": 3,
   "metadata": {
    "scrolled": false
   },
   "outputs": [
    {
     "name": "stdout",
     "output_type": "stream",
     "text": [
      "en     83.323045\n",
      "und     3.858654\n",
      "in      1.972365\n",
      "ja      1.857519\n",
      "pt      1.232610\n",
      "es      1.164301\n",
      "tl      1.157458\n",
      "ar      0.742393\n",
      "de      0.581041\n",
      "th      0.571001\n",
      "Name: html, dtype: float64\n"
     ]
    }
   ],
   "source": [
    "lang = df.html.str.extract(r'lang=\"(\\w+)\"', expand=False)\n",
    "print(lang.value_counts().head(10) / len(lang) * 100)"
   ]
  },
  {
   "cell_type": "code",
   "execution_count": null,
   "metadata": {},
   "outputs": [],
   "source": []
  }
 ],
 "metadata": {
  "kernelspec": {
   "display_name": "Python 3",
   "language": "python",
   "name": "python3"
  },
  "language_info": {
   "codemirror_mode": {
    "name": "ipython",
    "version": 3
   },
   "file_extension": ".py",
   "mimetype": "text/x-python",
   "name": "python",
   "nbconvert_exporter": "python",
   "pygments_lexer": "ipython3",
   "version": "3.5.2"
  }
 },
 "nbformat": 4,
 "nbformat_minor": 2
}
