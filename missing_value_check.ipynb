{
 "cells": [
  {
   "cell_type": "code",
   "execution_count": 60,
   "metadata": {},
   "outputs": [
    {
     "name": "stdout",
     "output_type": "stream",
     "text": [
      "0\n",
      "CPU times: user 404 ms, sys: 40.1 ms, total: 444 ms\n",
      "Wall time: 443 ms\n"
     ]
    }
   ],
   "source": [
    "%%time\n",
    "import pandas as pd # data processing, CSV file I/O (e.g. pd.read_csv)\n",
    "df = pd.read_csv(\"data/climate_tweets_2008.csv\", sep=\";\", engine=\"c\", lineterminator=\"\\n\")\n",
    "print(sum(df.text.isna()))"
   ]
  },
  {
   "cell_type": "code",
   "execution_count": 23,
   "metadata": {},
   "outputs": [
    {
     "data": {
      "text/plain": [
       "Index(['username', 'fullname', 'user_id', 'tweet_id', 'tweet_url', 'timestamp',\n",
       "       'timestamp_epochs', 'replies', 'retweets', 'likes', 'is_retweet',\n",
       "       'retweeter_username', 'retweeter_userid', 'retweet_id', 'text', 'html'],\n",
       "      dtype='object')"
      ]
     },
     "execution_count": 23,
     "metadata": {},
     "output_type": "execute_result"
    }
   ],
   "source": [
    "df.columns"
   ]
  },
  {
   "cell_type": "code",
   "execution_count": 58,
   "metadata": {},
   "outputs": [
    {
     "name": "stdout",
     "output_type": "stream",
     "text": [
      "10955\n",
      "851\n",
      "None\n",
      "10955\n",
      "Empty DataFrame\n",
      "]olumns: [username, fullname, user_id, tweet_id, tweet_url, timestamp, timestamp_epochs, replies, retweets, likes, is_retweet, retweeter_username, retweeter_userid, retweet_id, text, html\n",
      "Index: []\n"
     ]
    }
   ],
   "source": [
    "print(len(df))\n",
    "#df.text = df.text.str.replace(\"\\n\", \" \")\n",
    "#df.html = df.html.str.replace(\"\\n\", \" \")\n",
    "print(sum(df.text.str.contains(\"\\n\")))\n",
    "print(df.to_csv(\"test.csv\", sep=\";\", index=False))\n",
    "read = pd.read_csv(\"test.csv\", sep=\";\", engine=\"c\", lineterminator=\"\\n\")\n",
    "print(len(read))\n",
    "print(read[read.text.isna()])"
   ]
  }
 ],
 "metadata": {
  "kernelspec": {
   "display_name": "Python 3",
   "language": "python",
   "name": "python3"
  },
  "language_info": {
   "codemirror_mode": {
    "name": "ipython",
    "version": 3
   },
   "file_extension": ".py",
   "mimetype": "text/x-python",
   "name": "python",
   "nbconvert_exporter": "python",
   "pygments_lexer": "ipython3",
   "version": "3.5.2"
  }
 },
 "nbformat": 4,
 "nbformat_minor": 2
}
